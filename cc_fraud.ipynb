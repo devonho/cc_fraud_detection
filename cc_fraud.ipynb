{
 "cells": [
  {
   "cell_type": "markdown",
   "id": "c00aabb5-7c5f-4dd3-9506-91b0a1cd3d81",
   "metadata": {},
   "source": [
    "# Dataset"
   ]
  },
  {
   "cell_type": "markdown",
   "id": "6770ad29-28f7-4ff2-9e73-c14338a0f6a6",
   "metadata": {},
   "source": [
    "[Synthetic Financial Datasets For Fraud Detection](https://www.kaggle.com/datasets/ealaxi/paysim1)"
   ]
  },
  {
   "cell_type": "markdown",
   "id": "9a1f43dc-bb4f-4f90-9cca-498dd891a972",
   "metadata": {},
   "source": [
    "# Setup"
   ]
  },
  {
   "cell_type": "code",
   "execution_count": 1,
   "id": "14ba2fb0-e724-4023-9b00-c59ee71a4fcd",
   "metadata": {},
   "outputs": [],
   "source": [
    "import pandas as pd\n",
    "import numpy as np\n",
    "from sklearn.ensemble import HistGradientBoostingClassifier\n",
    "from sklearn.preprocessing import OrdinalEncoder"
   ]
  },
  {
   "cell_type": "markdown",
   "id": "0961a715-5980-4e7b-903d-9c958c81b60f",
   "metadata": {},
   "source": [
    "# Preprocess"
   ]
  },
  {
   "cell_type": "code",
   "execution_count": null,
   "id": "642e2755-b49a-448b-9811-bd82d1a4cf95",
   "metadata": {},
   "outputs": [],
   "source": [
    "def preprocess(X):\n",
    "  enc_xtntype = OrdinalEncoder()\n",
    "  enc_acc = OrdinalEncoder()\n",
    "\n",
    "  enc_xtntype.fit(X[:,1].reshape(-1,1))\n",
    "\n",
    "  arr = np.concatenate((X[:,3],X[:,6]))\n",
    "  enc_acc.fit(arr.reshape(-1,1))\n",
    "\n",
    "  arr_xtntype = enc_xtntype.transform(X[:,1].reshape(-1,1))\n",
    "  arr_nameOrig = enc_acc.transform(X[:,3].reshape(-1,1))\n",
    "  arr_nameDest = enc_acc.transform(X[:,6].reshape(-1,1))\n",
    "\n",
    "  X[:,1:2] = arr_xtntype.reshape(1000,1)\n",
    "  X[:,3:4] = arr_nameOrig.reshape(1000,1)\n",
    "  X[:,6:7] = arr_nameDest.reshape(1000,1)\n",
    "\n",
    "  return X\n"
   ]
  },
  {
   "cell_type": "markdown",
   "id": "16eec6ed-f94a-4658-ad92-0ae0ef77d1f3",
   "metadata": {},
   "source": [
    "# Train"
   ]
  },
  {
   "cell_type": "code",
   "execution_count": 2,
   "id": "960fa143-4712-4d71-9da0-0c35bf57d056",
   "metadata": {},
   "outputs": [],
   "source": [
    "def train(X, y):\n",
    "  X_train, X_test = X[:500], X[500:]\n",
    "  y_train, y_test = y[:500], y[500:]\n",
    "  clf = HistGradientBoostingClassifier(max_iter=100).fit(X_train, y_train)\n",
    "  acc = clf.score(X_test, y_test)\n",
    "  print(acc)\n",
    "  return clf\n"
   ]
  },
  {
   "cell_type": "markdown",
   "id": "6eeadc0f-3854-4e72-8d59-4681039d2ff6",
   "metadata": {},
   "source": [
    "# Main"
   ]
  },
  {
   "cell_type": "code",
   "execution_count": null,
   "id": "76eb12b1-f6ee-404c-9953-128b494a5738",
   "metadata": {},
   "outputs": [],
   "source": [
    "def main():\n",
    "  #df = pd.read_csv(\"./data/PS_20174392719_1491204439457_log.csv\")\n",
    "  df = pd.read_excel(\"data_sm.xlsx\")\n",
    "  data_cols = ['step', 'type', 'amount', 'nameOrig', 'oldbalanceOrg', 'newbalanceOrig', 'nameDest', 'oldbalanceDest', 'newbalanceDest']\n",
    "\n",
    "  X = df[data_cols].to_numpy()\n",
    "  y = df['isFraud'].to_numpy()\n",
    "\n",
    "  preprocess(X)\n",
    "  model = train(X, y)\n",
    "\n",
    "  for i in range(100):\n",
    "    res = model.predict(X[i,:].reshape(1,-1))\n",
    "    print(res, y[i])\n",
    "\n",
    "if __name__ == \"__main__\":\n",
    "  main()"
   ]
  }
 ],
 "metadata": {
  "kernelspec": {
   "display_name": "cc_fraud",
   "language": "python",
   "name": "cc_fraud"
  },
  "language_info": {
   "codemirror_mode": {
    "name": "ipython",
    "version": 3
   },
   "file_extension": ".py",
   "mimetype": "text/x-python",
   "name": "python",
   "nbconvert_exporter": "python",
   "pygments_lexer": "ipython3",
   "version": "3.10.16"
  }
 },
 "nbformat": 4,
 "nbformat_minor": 5
}
